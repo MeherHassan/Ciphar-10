{
 "cells": [
  {
   "cell_type": "markdown",
   "id": "potential-balloon",
   "metadata": {},
   "source": [
    "## MD MEHER HASSAN CHOWDHIRY\n",
    "## 1155645\n",
    "## The Entire Code solely done by me"
   ]
  },
  {
   "cell_type": "code",
   "execution_count": 24,
   "id": "dying-detector",
   "metadata": {},
   "outputs": [],
   "source": [
    "import pandas as pd\n",
    "import numpy as np\n",
    "import matplotlib.pyplot as plt\n",
    "import seaborn as sns\n",
    "from pandas.plotting import scatter_matrix\n",
    "import tensorflow as tf\n",
    "from tensorflow.keras.datasets import cifar10"
   ]
  },
  {
   "cell_type": "code",
   "execution_count": 25,
   "id": "extreme-drink",
   "metadata": {},
   "outputs": [],
   "source": [
    "##loading dataset\n",
    "(X_train, y_train), (X_test, y_test) = cifar10.load_data()"
   ]
  },
  {
   "cell_type": "code",
   "execution_count": 26,
   "id": "tamil-independence",
   "metadata": {},
   "outputs": [
    {
     "data": {
      "text/plain": [
       "((50000, 32, 32, 3), (50000, 1), (10000, 32, 32, 3), (10000, 1))"
      ]
     },
     "execution_count": 26,
     "metadata": {},
     "output_type": "execute_result"
    }
   ],
   "source": [
    "X_train.shape, y_train.shape,X_test.shape, y_test.shape"
   ]
  },
  {
   "cell_type": "code",
   "execution_count": 27,
   "id": "russian-oxford",
   "metadata": {},
   "outputs": [
    {
     "data": {
      "text/plain": [
       "array([6, 9, 9, ..., 9, 1, 1], dtype=uint8)"
      ]
     },
     "execution_count": 27,
     "metadata": {},
     "output_type": "execute_result"
    }
   ],
   "source": [
    "##reshaping the dimension of array size\n",
    "y_train=y_train.reshape(-1,)\n",
    "y_test=y_test.reshape(-1,)\n",
    "y_train"
   ]
  },
  {
   "cell_type": "code",
   "execution_count": 28,
   "id": "forty-symphony",
   "metadata": {},
   "outputs": [
    {
     "data": {
      "text/plain": [
       "<matplotlib.image.AxesImage at 0x19c1c9ec5c8>"
      ]
     },
     "execution_count": 28,
     "metadata": {},
     "output_type": "execute_result"
    },
    {
     "data": {
      "image/png": "[encoded data removed]",
      "text/plain": [
       "<Figure size 432x288 with 1 Axes>"
      ]
     },
     "metadata": {
      "needs_background": "light"
     },
     "output_type": "display_data"
    }
   ],
   "source": [
    "plt.imshow(X_train[1])"
   ]
  },
  {
   "cell_type": "code",
   "execution_count": 29,
   "id": "furnished-dollar",
   "metadata": {},
   "outputs": [],
   "source": [
    "##increasing the contrast\n",
    "X_train = X_train / 255.0\n",
    "X_test = X_test / 255.0"
   ]
  },
  {
   "cell_type": "code",
   "execution_count": 30,
   "id": "portuguese-philosophy",
   "metadata": {},
   "outputs": [],
   "source": [
    "import keras\n",
    "from tensorflow.keras import Sequential\n",
    "from tensorflow.keras import models,layers"
   ]
  },
  {
   "cell_type": "code",
   "execution_count": 31,
   "id": "disabled-milton",
   "metadata": {},
   "outputs": [],
   "source": [
    "## adding layers for cnn\n",
    "cnn=models.Sequential([\n",
    "    layers.Conv2D(filters=32, kernel_size=(3, 3),activation=\"relu\",input_shape=(32,32,3)),\n",
    "    layers.MaxPooling2D((2, 2)),\n",
    "    \n",
    "    layers.Conv2D(filters=64, kernel_size=(3, 3),activation=\"relu\"),\n",
    "    layers.MaxPooling2D((2, 2)),\n",
    "    \n",
    "    layers.Flatten(),\n",
    "    layers.Dense(100,activation=\"relu\"),\n",
    "    layers.Dense(10,activation=\"softmax\")\n",
    "    \n",
    "    \n",
    "    \n",
    "    \n",
    "])"
   ]
  },
  {
   "cell_type": "code",
   "execution_count": 34,
   "id": "interior-outdoors",
   "metadata": {},
   "outputs": [
    {
     "name": "stdout",
     "output_type": "stream",
     "text": [
      "Train on 42500 samples, validate on 7500 samples\n",
      "Epoch 1/5\n",
      "42500/42500 [==============================] - 55s 1ms/sample - loss: 0.5451 - accuracy: 0.8091 - val_loss: 0.7167 - val_accuracy: 0.7620\n",
      "Epoch 2/5\n",
      "42500/42500 [==============================] - 54s 1ms/sample - loss: 0.4845 - accuracy: 0.8300 - val_loss: 0.7680 - val_accuracy: 0.7449\n",
      "Epoch 3/5\n",
      "42500/42500 [==============================] - 59s 1ms/sample - loss: 0.4377 - accuracy: 0.8458 - val_loss: 0.8121 - val_accuracy: 0.7476\n",
      "Epoch 4/5\n",
      "42500/42500 [==============================] - 52s 1ms/sample - loss: 0.3922 - accuracy: 0.8622 - val_loss: 0.9206 - val_accuracy: 0.7208\n",
      "Epoch 5/5\n",
      "42500/42500 [==============================] - 54s 1ms/sample - loss: 0.3472 - accuracy: 0.8778 - val_loss: 0.9075 - val_accuracy: 0.7272\n"
     ]
    }
   ],
   "source": [
    "cnn.compile(\n",
    "   optimizer=\"adam\",\n",
    "   loss=\"sparse_categorical_crossentropy\",\n",
    "   metrics=[\"accuracy\"]\n",
    "\n",
    ")\n",
    "history=cnn.fit(X_train,y_train,epochs=5, validation_split=0.15, batch_size=32,verbose= 1)"
   ]
  },
  {
   "cell_type": "code",
   "execution_count": 35,
   "id": "ongoing-latvia",
   "metadata": {},
   "outputs": [
    {
     "data": {
      "image/png": "[encoded data removed]",
      "text/plain": [
       "<Figure size 432x288 with 1 Axes>"
      ]
     },
     "metadata": {
      "needs_background": "light"
     },
     "output_type": "display_data"
    }
   ],
   "source": [
    "# summarize history for loss\n",
    "plt.plot(history.history['loss'])\n",
    "plt.plot(history.history['val_loss'])\n",
    "plt.title('model loss')\n",
    "plt.ylabel('loss')\n",
    "plt.xlabel('epoch')\n",
    "plt.legend(['train', 'validation'], loc='upper left')\n",
    "plt.show()"
   ]
  },
  {
   "cell_type": "code",
   "execution_count": 36,
   "id": "knowing-baptist",
   "metadata": {},
   "outputs": [
    {
     "data": {
      "image/png": "[encoded data removed]",
      "text/plain": [
       "<Figure size 432x288 with 1 Axes>"
      ]
     },
     "metadata": {
      "needs_background": "light"
     },
     "output_type": "display_data"
    }
   ],
   "source": [
    "# summarize history for accuracy\n",
    "plt.plot(history.history['accuracy'])\n",
    "plt.plot(history.history['val_accuracy'])\n",
    "plt.title('model accuracy')\n",
    "plt.ylabel('accuracy')\n",
    "plt.xlabel('epoch')\n",
    "plt.legend(['train', 'validation'], loc='upper left')\n",
    "plt.show()"
   ]
  },
  {
   "cell_type": "code",
   "execution_count": 39,
   "id": "threatened-person",
   "metadata": {},
   "outputs": [
    {
     "name": "stdout",
     "output_type": "stream",
     "text": [
      "10000/10000 [==============================] - 2s 234us/sample - loss: 1.1384 - accuracy: 0.6877\n"
     ]
    },
    {
     "data": {
      "text/plain": [
       "[1.138423877620697, 0.6877]"
      ]
     },
     "execution_count": 39,
     "metadata": {},
     "output_type": "execute_result"
    }
   ],
   "source": [
    "cnn.evaluate(X_test, y_test)"
   ]
  },
  {
   "cell_type": "code",
   "execution_count": null,
   "id": "intellectual-personality",
   "metadata": {},
   "outputs": [],
   "source": []
  }
 ],
 "metadata": {
  "kernelspec": {
   "display_name": "Python 3",
   "language": "python",
   "name": "python3"
  },
  "language_info": {
   "codemirror_mode": {
    "name": "ipython",
    "version": 3
   },
   "file_extension": ".py",
   "mimetype": "text/x-python",
   "name": "python",
   "nbconvert_exporter": "python",
   "pygments_lexer": "ipython3",
   "version": "3.7.10"
  }
 },
 "nbformat": 4,
 "nbformat_minor": 5
}
